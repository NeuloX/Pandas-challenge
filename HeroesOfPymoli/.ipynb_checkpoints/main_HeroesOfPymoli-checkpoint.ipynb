{
 "cells": [
  {
   "cell_type": "markdown",
   "metadata": {},
   "source": [
    "### Note\n",
    "* Instructions have been included for each segment. You do not have to follow them exactly, but they are included to help you think through the steps."
   ]
  },
  {
   "cell_type": "code",
   "execution_count": 1,
   "metadata": {},
   "outputs": [
    {
     "data": {
      "text/html": [
       "<div>\n",
       "<style scoped>\n",
       "    .dataframe tbody tr th:only-of-type {\n",
       "        vertical-align: middle;\n",
       "    }\n",
       "\n",
       "    .dataframe tbody tr th {\n",
       "        vertical-align: top;\n",
       "    }\n",
       "\n",
       "    .dataframe thead th {\n",
       "        text-align: right;\n",
       "    }\n",
       "</style>\n",
       "<table border=\"1\" class=\"dataframe\">\n",
       "  <thead>\n",
       "    <tr style=\"text-align: right;\">\n",
       "      <th></th>\n",
       "      <th>Purchase ID</th>\n",
       "      <th>SN</th>\n",
       "      <th>Age</th>\n",
       "      <th>Gender</th>\n",
       "      <th>Item ID</th>\n",
       "      <th>Item Name</th>\n",
       "      <th>Price</th>\n",
       "    </tr>\n",
       "  </thead>\n",
       "  <tbody>\n",
       "    <tr>\n",
       "      <th>0</th>\n",
       "      <td>0</td>\n",
       "      <td>Lisim78</td>\n",
       "      <td>20</td>\n",
       "      <td>Male</td>\n",
       "      <td>108</td>\n",
       "      <td>Extraction, Quickblade Of Trembling Hands</td>\n",
       "      <td>3.53</td>\n",
       "    </tr>\n",
       "    <tr>\n",
       "      <th>1</th>\n",
       "      <td>1</td>\n",
       "      <td>Lisovynya38</td>\n",
       "      <td>40</td>\n",
       "      <td>Male</td>\n",
       "      <td>143</td>\n",
       "      <td>Frenzied Scimitar</td>\n",
       "      <td>1.56</td>\n",
       "    </tr>\n",
       "    <tr>\n",
       "      <th>2</th>\n",
       "      <td>2</td>\n",
       "      <td>Ithergue48</td>\n",
       "      <td>24</td>\n",
       "      <td>Male</td>\n",
       "      <td>92</td>\n",
       "      <td>Final Critic</td>\n",
       "      <td>4.88</td>\n",
       "    </tr>\n",
       "    <tr>\n",
       "      <th>3</th>\n",
       "      <td>3</td>\n",
       "      <td>Chamassasya86</td>\n",
       "      <td>24</td>\n",
       "      <td>Male</td>\n",
       "      <td>100</td>\n",
       "      <td>Blindscythe</td>\n",
       "      <td>3.27</td>\n",
       "    </tr>\n",
       "    <tr>\n",
       "      <th>4</th>\n",
       "      <td>4</td>\n",
       "      <td>Iskosia90</td>\n",
       "      <td>23</td>\n",
       "      <td>Male</td>\n",
       "      <td>131</td>\n",
       "      <td>Fury</td>\n",
       "      <td>1.44</td>\n",
       "    </tr>\n",
       "  </tbody>\n",
       "</table>\n",
       "</div>"
      ],
      "text/plain": [
       "   Purchase ID             SN  Age Gender  Item ID  \\\n",
       "0            0        Lisim78   20   Male      108   \n",
       "1            1    Lisovynya38   40   Male      143   \n",
       "2            2     Ithergue48   24   Male       92   \n",
       "3            3  Chamassasya86   24   Male      100   \n",
       "4            4      Iskosia90   23   Male      131   \n",
       "\n",
       "                                   Item Name  Price  \n",
       "0  Extraction, Quickblade Of Trembling Hands   3.53  \n",
       "1                          Frenzied Scimitar   1.56  \n",
       "2                               Final Critic   4.88  \n",
       "3                                Blindscythe   3.27  \n",
       "4                                       Fury   1.44  "
      ]
     },
     "execution_count": 1,
     "metadata": {},
     "output_type": "execute_result"
    }
   ],
   "source": [
    "# Dependencies and Setup\n",
    "import pandas as pd\n",
    "import os\n",
    "import csv\n",
    "\n",
    "# File to Load (Remember to Change These)\n",
    "file_to_load = \"Resources/purchase_data.csv\"\n",
    "\n",
    "# Read Purchasing File and store into Pandas data frame\n",
    "purchase_data = pd.read_csv(file_to_load)\n",
    "purchase_data.head()"
   ]
  },
  {
   "cell_type": "code",
   "execution_count": 2,
   "metadata": {},
   "outputs": [
    {
     "name": "stdout",
     "output_type": "stream",
     "text": [
      "780\n"
     ]
    },
    {
     "data": {
      "text/plain": [
       "Index(['Purchase ID', 'SN', 'Age', 'Gender', 'Item ID', 'Item Name', 'Price'], dtype='object')"
      ]
     },
     "execution_count": 2,
     "metadata": {},
     "output_type": "execute_result"
    }
   ],
   "source": [
    "print (purchase_data[\"SN\"].count())\n",
    "purchase_data.columns"
   ]
  },
  {
   "cell_type": "markdown",
   "metadata": {},
   "source": [
    "## Player Count"
   ]
  },
  {
   "cell_type": "markdown",
   "metadata": {},
   "source": [
    "* Display the total number of players\n"
   ]
  },
  {
   "cell_type": "code",
   "execution_count": 3,
   "metadata": {},
   "outputs": [
    {
     "data": {
      "text/html": [
       "<div>\n",
       "<style scoped>\n",
       "    .dataframe tbody tr th:only-of-type {\n",
       "        vertical-align: middle;\n",
       "    }\n",
       "\n",
       "    .dataframe tbody tr th {\n",
       "        vertical-align: top;\n",
       "    }\n",
       "\n",
       "    .dataframe thead th {\n",
       "        text-align: right;\n",
       "    }\n",
       "</style>\n",
       "<table border=\"1\" class=\"dataframe\">\n",
       "  <thead>\n",
       "    <tr style=\"text-align: right;\">\n",
       "      <th></th>\n",
       "      <th>Total Players</th>\n",
       "    </tr>\n",
       "  </thead>\n",
       "  <tbody>\n",
       "    <tr>\n",
       "      <th>0</th>\n",
       "      <td>576</td>\n",
       "    </tr>\n",
       "  </tbody>\n",
       "</table>\n",
       "</div>"
      ],
      "text/plain": [
       "   Total Players\n",
       "0            576"
      ]
     },
     "execution_count": 3,
     "metadata": {},
     "output_type": "execute_result"
    }
   ],
   "source": [
    "playercount =  pd.DataFrame({\n",
    "                            \"Total Players\":[ len(purchase_data[\"SN\"].value_counts())]\n",
    "                            })\n",
    "playercount"
   ]
  },
  {
   "cell_type": "markdown",
   "metadata": {},
   "source": [
    "## Purchasing Analysis (Total)"
   ]
  },
  {
   "cell_type": "markdown",
   "metadata": {},
   "source": [
    "* Run basic calculations to obtain number of unique items, average price, etc.\n",
    "\n",
    "\n",
    "* Create a summary data frame to hold the results\n",
    "\n",
    "\n",
    "* Optional: give the displayed data cleaner formatting\n",
    "\n",
    "\n",
    "* Display the summary data frame\n"
   ]
  },
  {
   "cell_type": "code",
   "execution_count": 4,
   "metadata": {
    "scrolled": true
   },
   "outputs": [
    {
     "data": {
      "text/html": [
       "<div>\n",
       "<style scoped>\n",
       "    .dataframe tbody tr th:only-of-type {\n",
       "        vertical-align: middle;\n",
       "    }\n",
       "\n",
       "    .dataframe tbody tr th {\n",
       "        vertical-align: top;\n",
       "    }\n",
       "\n",
       "    .dataframe thead th {\n",
       "        text-align: right;\n",
       "    }\n",
       "</style>\n",
       "<table border=\"1\" class=\"dataframe\">\n",
       "  <thead>\n",
       "    <tr style=\"text-align: right;\">\n",
       "      <th></th>\n",
       "      <th>Number of Unique Items</th>\n",
       "      <th>Average Price</th>\n",
       "      <th>Number of Purchases</th>\n",
       "      <th>Total Revenue</th>\n",
       "    </tr>\n",
       "  </thead>\n",
       "  <tbody>\n",
       "    <tr>\n",
       "      <th>0</th>\n",
       "      <td>179</td>\n",
       "      <td>3.05</td>\n",
       "      <td>780</td>\n",
       "      <td>2379.77</td>\n",
       "    </tr>\n",
       "  </tbody>\n",
       "</table>\n",
       "</div>"
      ],
      "text/plain": [
       "   Number of Unique Items  Average Price  Number of Purchases  Total Revenue\n",
       "0                     179           3.05                  780        2379.77"
      ]
     },
     "execution_count": 4,
     "metadata": {},
     "output_type": "execute_result"
    }
   ],
   "source": [
    "items = pd.DataFrame({\n",
    "    \"Number of Unique Items\":[len(purchase_data[\"Item Name\"].value_counts())],\n",
    "    \"Average Price\":[round(purchase_data[\"Price\"].mean(),2)],\n",
    "    \"Number of Purchases\":[len(purchase_data[\"Purchase ID\"].value_counts())],\n",
    "    \"Total Revenue\":[purchase_data[\"Price\"].sum()]\n",
    "})\n",
    "items"
   ]
  },
  {
   "cell_type": "markdown",
   "metadata": {},
   "source": [
    "## Gender Demographics"
   ]
  },
  {
   "cell_type": "markdown",
   "metadata": {},
   "source": [
    "* Percentage and Count of Male Players\n",
    "\n",
    "\n",
    "* Percentage and Count of Female Players\n",
    "\n",
    "\n",
    "* Percentage and Count of Other / Non-Disclosed\n",
    "\n",
    "\n"
   ]
  },
  {
   "cell_type": "code",
   "execution_count": 5,
   "metadata": {},
   "outputs": [
    {
     "data": {
      "text/html": [
       "<div>\n",
       "<style scoped>\n",
       "    .dataframe tbody tr th:only-of-type {\n",
       "        vertical-align: middle;\n",
       "    }\n",
       "\n",
       "    .dataframe tbody tr th {\n",
       "        vertical-align: top;\n",
       "    }\n",
       "\n",
       "    .dataframe thead th {\n",
       "        text-align: right;\n",
       "    }\n",
       "</style>\n",
       "<table border=\"1\" class=\"dataframe\">\n",
       "  <thead>\n",
       "    <tr style=\"text-align: right;\">\n",
       "      <th></th>\n",
       "      <th>Total Count</th>\n",
       "      <th>Percentage of Players</th>\n",
       "    </tr>\n",
       "  </thead>\n",
       "  <tbody>\n",
       "    <tr>\n",
       "      <th>Male</th>\n",
       "      <td>484</td>\n",
       "      <td>84.03%</td>\n",
       "    </tr>\n",
       "    <tr>\n",
       "      <th>Female</th>\n",
       "      <td>81</td>\n",
       "      <td>14.06%</td>\n",
       "    </tr>\n",
       "    <tr>\n",
       "      <th>Other / Non-Disclosed</th>\n",
       "      <td>11</td>\n",
       "      <td>1.91%</td>\n",
       "    </tr>\n",
       "  </tbody>\n",
       "</table>\n",
       "</div>"
      ],
      "text/plain": [
       "                       Total Count Percentage of Players\n",
       "Male                           484                84.03%\n",
       "Female                          81                14.06%\n",
       "Other / Non-Disclosed           11                 1.91%"
      ]
     },
     "execution_count": 5,
     "metadata": {},
     "output_type": "execute_result"
    }
   ],
   "source": [
    "#Set Table to Gender, SN then Age\n",
    "usergender = purchase_data[[\"Gender\", \"SN\", \"Age\"]]\n",
    "usergender = usergender.drop_duplicates()\n",
    "#Count the Gender by Type\n",
    "gendercounts = usergender[\"Gender\"].value_counts()\n",
    "#Make new Table that displays Gender count and percentage by gender type\n",
    "gender_dems = pd.DataFrame({\n",
    "    \"Total Count\":gendercounts,\n",
    "    \"Percentage of Players\":round((gendercounts/len(purchase_data[\"SN\"].value_counts()))*100,2)\n",
    "})\n",
    "#set Percentage of Players type to string then add % sign\n",
    "gender_dems[\"Percentage of Players\"] = gender_dems[\"Percentage of Players\"].astype(str)+ \"%\"\n",
    "gender_dems.head()\n"
   ]
  },
  {
   "cell_type": "markdown",
   "metadata": {},
   "source": [
    "\n",
    "## Purchasing Analysis (Gender)"
   ]
  },
  {
   "cell_type": "markdown",
   "metadata": {},
   "source": [
    "* Run basic calculations to obtain purchase count, avg. purchase price, avg. purchase total per person etc. by gender\n",
    "\n",
    "\n",
    "\n",
    "\n",
    "* Create a summary data frame to hold the results\n",
    "\n",
    "\n",
    "* Optional: give the displayed data cleaner formatting\n",
    "\n",
    "\n",
    "* Display the summary data frame"
   ]
  },
  {
   "cell_type": "code",
   "execution_count": 6,
   "metadata": {},
   "outputs": [
    {
     "data": {
      "text/html": [
       "<style  type=\"text/css\" >\n",
       "</style><table id=\"T_d7283a21_f8f6_11ea_b1f2_c49dedad624a\" ><thead>    <tr>        <th class=\"blank level0\" ></th>        <th class=\"col_heading level0 col0\" >Purchase Count</th>        <th class=\"col_heading level0 col1\" >Average Purchase Price</th>        <th class=\"col_heading level0 col2\" >Total Purchase Value</th>        <th class=\"col_heading level0 col3\" >Avg Total Purchase per Person</th>    </tr>    <tr>        <th class=\"index_name level0\" >Gender</th>        <th class=\"blank\" ></th>        <th class=\"blank\" ></th>        <th class=\"blank\" ></th>        <th class=\"blank\" ></th>    </tr></thead><tbody>\n",
       "                <tr>\n",
       "                        <th id=\"T_d7283a21_f8f6_11ea_b1f2_c49dedad624alevel0_row0\" class=\"row_heading level0 row0\" >Male</th>\n",
       "                        <td id=\"T_d7283a21_f8f6_11ea_b1f2_c49dedad624arow0_col0\" class=\"data row0 col0\" >652</td>\n",
       "                        <td id=\"T_d7283a21_f8f6_11ea_b1f2_c49dedad624arow0_col1\" class=\"data row0 col1\" >$3.02</td>\n",
       "                        <td id=\"T_d7283a21_f8f6_11ea_b1f2_c49dedad624arow0_col2\" class=\"data row0 col2\" >$1,967.64</td>\n",
       "                        <td id=\"T_d7283a21_f8f6_11ea_b1f2_c49dedad624arow0_col3\" class=\"data row0 col3\" >$4.07</td>\n",
       "            </tr>\n",
       "            <tr>\n",
       "                        <th id=\"T_d7283a21_f8f6_11ea_b1f2_c49dedad624alevel0_row1\" class=\"row_heading level0 row1\" >Female</th>\n",
       "                        <td id=\"T_d7283a21_f8f6_11ea_b1f2_c49dedad624arow1_col0\" class=\"data row1 col0\" >113</td>\n",
       "                        <td id=\"T_d7283a21_f8f6_11ea_b1f2_c49dedad624arow1_col1\" class=\"data row1 col1\" >$3.20</td>\n",
       "                        <td id=\"T_d7283a21_f8f6_11ea_b1f2_c49dedad624arow1_col2\" class=\"data row1 col2\" >$361.94</td>\n",
       "                        <td id=\"T_d7283a21_f8f6_11ea_b1f2_c49dedad624arow1_col3\" class=\"data row1 col3\" >$4.47</td>\n",
       "            </tr>\n",
       "            <tr>\n",
       "                        <th id=\"T_d7283a21_f8f6_11ea_b1f2_c49dedad624alevel0_row2\" class=\"row_heading level0 row2\" >Other / Non-Disclosed</th>\n",
       "                        <td id=\"T_d7283a21_f8f6_11ea_b1f2_c49dedad624arow2_col0\" class=\"data row2 col0\" >15</td>\n",
       "                        <td id=\"T_d7283a21_f8f6_11ea_b1f2_c49dedad624arow2_col1\" class=\"data row2 col1\" >$3.35</td>\n",
       "                        <td id=\"T_d7283a21_f8f6_11ea_b1f2_c49dedad624arow2_col2\" class=\"data row2 col2\" >$50.19</td>\n",
       "                        <td id=\"T_d7283a21_f8f6_11ea_b1f2_c49dedad624arow2_col3\" class=\"data row2 col3\" >$4.56</td>\n",
       "            </tr>\n",
       "    </tbody></table>"
      ],
      "text/plain": [
       "<pandas.io.formats.style.Styler at 0x1b54a770310>"
      ]
     },
     "execution_count": 6,
     "metadata": {},
     "output_type": "execute_result"
    }
   ],
   "source": [
    "gen_pa = purchase_data[[\"Purchase ID\",\"Gender\",\"Price\"]]\n",
    "\n",
    "#get female values\n",
    "female = gen_pa.loc[gen_pa[\"Gender\"] == \"Female\", :]\n",
    "#get female total\n",
    "femaletotal = female[\"Purchase ID\"].count()\n",
    "#get female average price purchase and change the float format to add $ at start\n",
    "femaleavg = female[\"Price\"].mean()\n",
    "#get total value of purchase \n",
    "femalesum = female[\"Price\"].sum()\n",
    "\n",
    "#get male values\n",
    "male = gen_pa.loc[gen_pa[\"Gender\"] == \"Male\", :]\n",
    "#get male total\n",
    "maletotal = male[\"Purchase ID\"].count()\n",
    "#get male average price purchase and change the float format to add $ at start\n",
    "maleavg = male[\"Price\"].mean()\n",
    "#get total value of purchase\n",
    "malesum = male[\"Price\"].sum()\n",
    "\n",
    "\n",
    "#get Other / Non-Disclosed values\n",
    "other = gen_pa.loc[gen_pa[\"Gender\"] == \"Other / Non-Disclosed\", :]\n",
    "#get other total\n",
    "othertotal = other[\"Purchase ID\"].count()\n",
    "#get other average price purchase and change the float format to add $ at start\n",
    "otheravg = other[\"Price\"].mean()\n",
    "#get total value of purchase \n",
    "othersum = other[\"Price\"].sum()\n",
    "\n",
    "\n",
    "\n",
    "#create data frame to show data\n",
    "gen_pur = pd.DataFrame([\n",
    "    {\"Gender\":\"Male\",\"Purchase Count\":maletotal,\"Average Purchase Price\": maleavg,\"Total Purchase Value\": malesum},\n",
    "    {\"Gender\":\"Female\",\"Purchase Count\":femaletotal,\"Average Purchase Price\":femaleavg,\"Total Purchase Value\": femalesum},\n",
    "    {\"Gender\":\"Other / Non-Disclosed\",\"Purchase Count\":othertotal,\"Average Purchase Price\":otheravg,\"Total Purchase Value\": othersum}\n",
    "    #\"Total Purchase Value\":price_totl\n",
    "])\n",
    "gen_pur = gen_pur.set_index(\"Gender\")\n",
    "#get the Avg Total Purchase per Person per Gender\n",
    "gen_pur[\"Avg Total Purchase per Person\"] = gen_pur[\"Total Purchase Value\"]/gender_dems[\"Total Count\"]\n",
    "#set format of the data set to round in hundredth place and add $ sign\n",
    "gen_pur = gen_pur.style.format({\n",
    "    \"Average Purchase Price\": \"${:,.2f}\".format,\n",
    "    \"Total Purchase Value\": \"${:,.2f}\".format,\n",
    "    \"Avg Total Purchase per Person\" : \"${:,.2f}\".format\n",
    "})\n",
    "\n",
    "gen_pur\n"
   ]
  },
  {
   "cell_type": "markdown",
   "metadata": {},
   "source": [
    "## Age Demographics"
   ]
  },
  {
   "cell_type": "markdown",
   "metadata": {},
   "source": [
    "* Establish bins for ages\n",
    "\n",
    "\n",
    "* Categorize the existing players using the age bins. Hint: use pd.cut()\n",
    "\n",
    "\n",
    "* Calculate the numbers and percentages by age group\n",
    "\n",
    "\n",
    "* Create a summary data frame to hold the results\n",
    "\n",
    "\n",
    "* Optional: round the percentage column to two decimal points\n",
    "\n",
    "\n",
    "* Display Age Demographics Table\n"
   ]
  },
  {
   "cell_type": "code",
   "execution_count": 7,
   "metadata": {},
   "outputs": [
    {
     "data": {
      "text/html": [
       "<style  type=\"text/css\" >\n",
       "</style><table id=\"T_d72f1761_f8f6_11ea_bb98_c49dedad624a\" ><thead>    <tr>        <th class=\"blank level0\" ></th>        <th class=\"col_heading level0 col0\" >Total Count</th>        <th class=\"col_heading level0 col1\" >Percentage of Players</th>    </tr>    <tr>        <th class=\"index_name level0\" >Age Range</th>        <th class=\"blank\" ></th>        <th class=\"blank\" ></th>    </tr></thead><tbody>\n",
       "                <tr>\n",
       "                        <th id=\"T_d72f1761_f8f6_11ea_bb98_c49dedad624alevel0_row0\" class=\"row_heading level0 row0\" ><10</th>\n",
       "                        <td id=\"T_d72f1761_f8f6_11ea_bb98_c49dedad624arow0_col0\" class=\"data row0 col0\" >17</td>\n",
       "                        <td id=\"T_d72f1761_f8f6_11ea_bb98_c49dedad624arow0_col1\" class=\"data row0 col1\" >2.95%</td>\n",
       "            </tr>\n",
       "            <tr>\n",
       "                        <th id=\"T_d72f1761_f8f6_11ea_bb98_c49dedad624alevel0_row1\" class=\"row_heading level0 row1\" >10-14</th>\n",
       "                        <td id=\"T_d72f1761_f8f6_11ea_bb98_c49dedad624arow1_col0\" class=\"data row1 col0\" >22</td>\n",
       "                        <td id=\"T_d72f1761_f8f6_11ea_bb98_c49dedad624arow1_col1\" class=\"data row1 col1\" >3.82%</td>\n",
       "            </tr>\n",
       "            <tr>\n",
       "                        <th id=\"T_d72f1761_f8f6_11ea_bb98_c49dedad624alevel0_row2\" class=\"row_heading level0 row2\" >15-19</th>\n",
       "                        <td id=\"T_d72f1761_f8f6_11ea_bb98_c49dedad624arow2_col0\" class=\"data row2 col0\" >107</td>\n",
       "                        <td id=\"T_d72f1761_f8f6_11ea_bb98_c49dedad624arow2_col1\" class=\"data row2 col1\" >18.58%</td>\n",
       "            </tr>\n",
       "            <tr>\n",
       "                        <th id=\"T_d72f1761_f8f6_11ea_bb98_c49dedad624alevel0_row3\" class=\"row_heading level0 row3\" >20-24</th>\n",
       "                        <td id=\"T_d72f1761_f8f6_11ea_bb98_c49dedad624arow3_col0\" class=\"data row3 col0\" >258</td>\n",
       "                        <td id=\"T_d72f1761_f8f6_11ea_bb98_c49dedad624arow3_col1\" class=\"data row3 col1\" >44.79%</td>\n",
       "            </tr>\n",
       "            <tr>\n",
       "                        <th id=\"T_d72f1761_f8f6_11ea_bb98_c49dedad624alevel0_row4\" class=\"row_heading level0 row4\" >25-29</th>\n",
       "                        <td id=\"T_d72f1761_f8f6_11ea_bb98_c49dedad624arow4_col0\" class=\"data row4 col0\" >77</td>\n",
       "                        <td id=\"T_d72f1761_f8f6_11ea_bb98_c49dedad624arow4_col1\" class=\"data row4 col1\" >13.37%</td>\n",
       "            </tr>\n",
       "            <tr>\n",
       "                        <th id=\"T_d72f1761_f8f6_11ea_bb98_c49dedad624alevel0_row5\" class=\"row_heading level0 row5\" >30-34</th>\n",
       "                        <td id=\"T_d72f1761_f8f6_11ea_bb98_c49dedad624arow5_col0\" class=\"data row5 col0\" >52</td>\n",
       "                        <td id=\"T_d72f1761_f8f6_11ea_bb98_c49dedad624arow5_col1\" class=\"data row5 col1\" >9.03%</td>\n",
       "            </tr>\n",
       "            <tr>\n",
       "                        <th id=\"T_d72f1761_f8f6_11ea_bb98_c49dedad624alevel0_row6\" class=\"row_heading level0 row6\" >35-39</th>\n",
       "                        <td id=\"T_d72f1761_f8f6_11ea_bb98_c49dedad624arow6_col0\" class=\"data row6 col0\" >31</td>\n",
       "                        <td id=\"T_d72f1761_f8f6_11ea_bb98_c49dedad624arow6_col1\" class=\"data row6 col1\" >5.38%</td>\n",
       "            </tr>\n",
       "            <tr>\n",
       "                        <th id=\"T_d72f1761_f8f6_11ea_bb98_c49dedad624alevel0_row7\" class=\"row_heading level0 row7\" >40+</th>\n",
       "                        <td id=\"T_d72f1761_f8f6_11ea_bb98_c49dedad624arow7_col0\" class=\"data row7 col0\" >12</td>\n",
       "                        <td id=\"T_d72f1761_f8f6_11ea_bb98_c49dedad624arow7_col1\" class=\"data row7 col1\" >2.08%</td>\n",
       "            </tr>\n",
       "    </tbody></table>"
      ],
      "text/plain": [
       "<pandas.io.formats.style.Styler at 0x1b54a770ca0>"
      ]
     },
     "execution_count": 7,
     "metadata": {},
     "output_type": "execute_result"
    }
   ],
   "source": [
    "#get tables for this block\n",
    "age_demo = purchase_data[[\"SN\",\"Age\"]]\n",
    "age_demo = age_demo.drop_duplicates()\n",
    "totalusers = age_demo[\"SN\"].count()\n",
    "#set bin\n",
    "age_bins = [0,9,14,19,24,29,34,39,45]\n",
    "bin_name=[\"<10\",\"10-14\",\"15-19\",\"20-24\",\"25-29\",\"30-34\",\"35-39\",\"40+\"]\n",
    "#set the bins for each range\n",
    "age_demo[\"Age Range\"]=pd.cut(age_demo[\"Age\"], age_bins, labels=bin_name,include_lowest=True)\n",
    "\n",
    "#assign to a new data frame\n",
    "show_age_demo = age_demo[[\"Age\",\"Age Range\"]]\n",
    "show_age_demo = show_age_demo.groupby(\"Age Range\")\n",
    "show_age_demo = show_age_demo.count()\n",
    "#add the Percentage of Players column\n",
    "show_age_demo[\"Percentage of Players\"] =  (show_age_demo[\"Age\"]/age_demo[\"SN\"].count())*100\n",
    "#set variable for the next part\n",
    "totaluser=show_age_demo[\"Age\"].count()\n",
    "#rename Age column to Total Count \n",
    "show_age_demo.rename(columns={\"Age\":\"Total Count\"},inplace= True)\n",
    "#set format to be rounded out in hundreth place and add % sign\n",
    "show_age_demo = show_age_demo.style.format({\n",
    "    \"Percentage of Players\": \"{:,.2f}%\".format\n",
    "})\n",
    "\n",
    "show_age_demo\n",
    "#age_demo.columns"
   ]
  },
  {
   "cell_type": "markdown",
   "metadata": {},
   "source": [
    "## Purchasing Analysis (Age)"
   ]
  },
  {
   "cell_type": "markdown",
   "metadata": {},
   "source": [
    "* Bin the purchase_data data frame by age\n",
    "\n",
    "\n",
    "* Run basic calculations to obtain purchase count, avg. purchase price, avg. purchase total per person etc. in the table below\n",
    "\n",
    "\n",
    "* Create a summary data frame to hold the results\n",
    "\n",
    "\n",
    "* Optional: give the displayed data cleaner formatting\n",
    "\n",
    "\n",
    "* Display the summary data frame"
   ]
  },
  {
   "cell_type": "code",
   "execution_count": 9,
   "metadata": {},
   "outputs": [
    {
     "data": {
      "text/html": [
       "<style  type=\"text/css\" >\n",
       "</style><table id=\"T_e2e624e1_f8f6_11ea_9fab_c49dedad624a\" ><thead>    <tr>        <th class=\"blank level0\" ></th>        <th class=\"col_heading level0 col0\" >Purchase Count</th>        <th class=\"col_heading level0 col1\" >Average Purchase Price</th>        <th class=\"col_heading level0 col2\" >Total Purchase Value</th>        <th class=\"col_heading level0 col3\" >Avg Total Purchase per Person</th>    </tr>    <tr>        <th class=\"index_name level0\" >Age Range</th>        <th class=\"blank\" ></th>        <th class=\"blank\" ></th>        <th class=\"blank\" ></th>        <th class=\"blank\" ></th>    </tr></thead><tbody>\n",
       "                <tr>\n",
       "                        <th id=\"T_e2e624e1_f8f6_11ea_9fab_c49dedad624alevel0_row0\" class=\"row_heading level0 row0\" ><10</th>\n",
       "                        <td id=\"T_e2e624e1_f8f6_11ea_9fab_c49dedad624arow0_col0\" class=\"data row0 col0\" >23</td>\n",
       "                        <td id=\"T_e2e624e1_f8f6_11ea_9fab_c49dedad624arow0_col1\" class=\"data row0 col1\" >$3.35</td>\n",
       "                        <td id=\"T_e2e624e1_f8f6_11ea_9fab_c49dedad624arow0_col2\" class=\"data row0 col2\" >$77.13</td>\n",
       "                        <td id=\"T_e2e624e1_f8f6_11ea_9fab_c49dedad624arow0_col3\" class=\"data row0 col3\" >$9.64</td>\n",
       "            </tr>\n",
       "            <tr>\n",
       "                        <th id=\"T_e2e624e1_f8f6_11ea_9fab_c49dedad624alevel0_row1\" class=\"row_heading level0 row1\" >10-14</th>\n",
       "                        <td id=\"T_e2e624e1_f8f6_11ea_9fab_c49dedad624arow1_col0\" class=\"data row1 col0\" >28</td>\n",
       "                        <td id=\"T_e2e624e1_f8f6_11ea_9fab_c49dedad624arow1_col1\" class=\"data row1 col1\" >$2.96</td>\n",
       "                        <td id=\"T_e2e624e1_f8f6_11ea_9fab_c49dedad624arow1_col2\" class=\"data row1 col2\" >$82.78</td>\n",
       "                        <td id=\"T_e2e624e1_f8f6_11ea_9fab_c49dedad624arow1_col3\" class=\"data row1 col3\" >$10.35</td>\n",
       "            </tr>\n",
       "            <tr>\n",
       "                        <th id=\"T_e2e624e1_f8f6_11ea_9fab_c49dedad624alevel0_row2\" class=\"row_heading level0 row2\" >15-19</th>\n",
       "                        <td id=\"T_e2e624e1_f8f6_11ea_9fab_c49dedad624arow2_col0\" class=\"data row2 col0\" >136</td>\n",
       "                        <td id=\"T_e2e624e1_f8f6_11ea_9fab_c49dedad624arow2_col1\" class=\"data row2 col1\" >$3.04</td>\n",
       "                        <td id=\"T_e2e624e1_f8f6_11ea_9fab_c49dedad624arow2_col2\" class=\"data row2 col2\" >$412.89</td>\n",
       "                        <td id=\"T_e2e624e1_f8f6_11ea_9fab_c49dedad624arow2_col3\" class=\"data row2 col3\" >$51.61</td>\n",
       "            </tr>\n",
       "            <tr>\n",
       "                        <th id=\"T_e2e624e1_f8f6_11ea_9fab_c49dedad624alevel0_row3\" class=\"row_heading level0 row3\" >20-24</th>\n",
       "                        <td id=\"T_e2e624e1_f8f6_11ea_9fab_c49dedad624arow3_col0\" class=\"data row3 col0\" >365</td>\n",
       "                        <td id=\"T_e2e624e1_f8f6_11ea_9fab_c49dedad624arow3_col1\" class=\"data row3 col1\" >$3.05</td>\n",
       "                        <td id=\"T_e2e624e1_f8f6_11ea_9fab_c49dedad624arow3_col2\" class=\"data row3 col2\" >$1,114.06</td>\n",
       "                        <td id=\"T_e2e624e1_f8f6_11ea_9fab_c49dedad624arow3_col3\" class=\"data row3 col3\" >$139.26</td>\n",
       "            </tr>\n",
       "            <tr>\n",
       "                        <th id=\"T_e2e624e1_f8f6_11ea_9fab_c49dedad624alevel0_row4\" class=\"row_heading level0 row4\" >25-29</th>\n",
       "                        <td id=\"T_e2e624e1_f8f6_11ea_9fab_c49dedad624arow4_col0\" class=\"data row4 col0\" >101</td>\n",
       "                        <td id=\"T_e2e624e1_f8f6_11ea_9fab_c49dedad624arow4_col1\" class=\"data row4 col1\" >$2.90</td>\n",
       "                        <td id=\"T_e2e624e1_f8f6_11ea_9fab_c49dedad624arow4_col2\" class=\"data row4 col2\" >$293.00</td>\n",
       "                        <td id=\"T_e2e624e1_f8f6_11ea_9fab_c49dedad624arow4_col3\" class=\"data row4 col3\" >$36.62</td>\n",
       "            </tr>\n",
       "            <tr>\n",
       "                        <th id=\"T_e2e624e1_f8f6_11ea_9fab_c49dedad624alevel0_row5\" class=\"row_heading level0 row5\" >30-34</th>\n",
       "                        <td id=\"T_e2e624e1_f8f6_11ea_9fab_c49dedad624arow5_col0\" class=\"data row5 col0\" >73</td>\n",
       "                        <td id=\"T_e2e624e1_f8f6_11ea_9fab_c49dedad624arow5_col1\" class=\"data row5 col1\" >$2.93</td>\n",
       "                        <td id=\"T_e2e624e1_f8f6_11ea_9fab_c49dedad624arow5_col2\" class=\"data row5 col2\" >$214.00</td>\n",
       "                        <td id=\"T_e2e624e1_f8f6_11ea_9fab_c49dedad624arow5_col3\" class=\"data row5 col3\" >$26.75</td>\n",
       "            </tr>\n",
       "            <tr>\n",
       "                        <th id=\"T_e2e624e1_f8f6_11ea_9fab_c49dedad624alevel0_row6\" class=\"row_heading level0 row6\" >35-39</th>\n",
       "                        <td id=\"T_e2e624e1_f8f6_11ea_9fab_c49dedad624arow6_col0\" class=\"data row6 col0\" >41</td>\n",
       "                        <td id=\"T_e2e624e1_f8f6_11ea_9fab_c49dedad624arow6_col1\" class=\"data row6 col1\" >$3.60</td>\n",
       "                        <td id=\"T_e2e624e1_f8f6_11ea_9fab_c49dedad624arow6_col2\" class=\"data row6 col2\" >$147.67</td>\n",
       "                        <td id=\"T_e2e624e1_f8f6_11ea_9fab_c49dedad624arow6_col3\" class=\"data row6 col3\" >$18.46</td>\n",
       "            </tr>\n",
       "            <tr>\n",
       "                        <th id=\"T_e2e624e1_f8f6_11ea_9fab_c49dedad624alevel0_row7\" class=\"row_heading level0 row7\" >40+</th>\n",
       "                        <td id=\"T_e2e624e1_f8f6_11ea_9fab_c49dedad624arow7_col0\" class=\"data row7 col0\" >13</td>\n",
       "                        <td id=\"T_e2e624e1_f8f6_11ea_9fab_c49dedad624arow7_col1\" class=\"data row7 col1\" >$2.94</td>\n",
       "                        <td id=\"T_e2e624e1_f8f6_11ea_9fab_c49dedad624arow7_col2\" class=\"data row7 col2\" >$38.24</td>\n",
       "                        <td id=\"T_e2e624e1_f8f6_11ea_9fab_c49dedad624arow7_col3\" class=\"data row7 col3\" >$4.78</td>\n",
       "            </tr>\n",
       "    </tbody></table>"
      ],
      "text/plain": [
       "<pandas.io.formats.style.Styler at 0x1b5486d2880>"
      ]
     },
     "execution_count": 9,
     "metadata": {},
     "output_type": "execute_result"
    }
   ],
   "source": [
    "#set data sets then remove duplicates\n",
    "age_pur = purchase_data[[\"Age\", \"Purchase ID\",\"Price\"]]\n",
    "age_pur = age_pur.drop_duplicates()\n",
    "#set the bin for the age group\n",
    "age_pur[\"Age Range\"]=pd.cut(age_pur[\"Age\"], age_bins, labels=bin_name,include_lowest=True)\n",
    "#rename the column Age to Purchase Count \n",
    "age_pur.rename(columns={\"Age\":\"Purchase Count\"},inplace=True)\n",
    "#group by age range\n",
    "age_pur = age_pur.groupby(\"Age Range\")\n",
    "#set age_pur data to a new data set\n",
    "show_age_pur = pd.DataFrame(age_pur[\"Purchase ID\"].count())\n",
    "#get the Average Purchase Price per age group\n",
    "show_age_pur[\"Average Purchase Price\"] = age_pur[\"Price\"].mean()\n",
    "#get the total purchase value\n",
    "show_age_pur[\"Total Purchase Value\"] = age_pur[\"Price\"].sum()\n",
    "#get the average purchase value per person per age group\n",
    "show_age_pur[\"Avg Total Purchase per Person\"] = show_age_pur[\"Total Purchase Value\"]/totaluser\n",
    "#rename purchase id to purchase count \n",
    "show_age_pur.rename(columns={\"Purchase ID\":\"Purchase Count\"},inplace=True)\n",
    "#set the format of the columns rounded to hundredth place and add $ sign \n",
    "show_age_pur =show_age_pur.style.format({\n",
    "    \"Average Purchase Price\":\"${:,.2f}\".format,\n",
    "    \"Total Purchase Value\":\"${:,.2f}\".format,\n",
    "    \"Avg Total Purchase per Person\":\"${:,.2f}\".format\n",
    "})\n",
    "show_age_pur\n"
   ]
  },
  {
   "cell_type": "markdown",
   "metadata": {},
   "source": [
    "## Top Spenders"
   ]
  },
  {
   "cell_type": "markdown",
   "metadata": {},
   "source": [
    "* Run basic calculations to obtain the results in the table below\n",
    "\n",
    "\n",
    "* Create a summary data frame to hold the results\n",
    "\n",
    "\n",
    "* Sort the total purchase value column in descending order\n",
    "\n",
    "\n",
    "* Optional: give the displayed data cleaner formatting\n",
    "\n",
    "\n",
    "* Display a preview of the summary data frame\n",
    "\n"
   ]
  },
  {
   "cell_type": "code",
   "execution_count": 84,
   "metadata": {},
   "outputs": [
    {
     "data": {
      "text/html": [
       "<style  type=\"text/css\" >\n",
       "</style><table id=\"T_308d13b3_f903_11ea_afd8_c49dedad624a\" ><thead>    <tr>        <th class=\"blank level0\" ></th>        <th class=\"col_heading level0 col0\" >Purchase Count</th>        <th class=\"col_heading level0 col1\" >Total Purchase Value</th>    </tr>    <tr>        <th class=\"index_name level0\" >SN</th>        <th class=\"blank\" ></th>        <th class=\"blank\" ></th>    </tr></thead><tbody>\n",
       "                <tr>\n",
       "                        <th id=\"T_308d13b3_f903_11ea_afd8_c49dedad624alevel0_row0\" class=\"row_heading level0 row0\" >Lisosia93</th>\n",
       "                        <td id=\"T_308d13b3_f903_11ea_afd8_c49dedad624arow0_col0\" class=\"data row0 col0\" >5</td>\n",
       "                        <td id=\"T_308d13b3_f903_11ea_afd8_c49dedad624arow0_col1\" class=\"data row0 col1\" >$18.96</td>\n",
       "            </tr>\n",
       "            <tr>\n",
       "                        <th id=\"T_308d13b3_f903_11ea_afd8_c49dedad624alevel0_row1\" class=\"row_heading level0 row1\" >Idastidru52</th>\n",
       "                        <td id=\"T_308d13b3_f903_11ea_afd8_c49dedad624arow1_col0\" class=\"data row1 col0\" >4</td>\n",
       "                        <td id=\"T_308d13b3_f903_11ea_afd8_c49dedad624arow1_col1\" class=\"data row1 col1\" >$15.45</td>\n",
       "            </tr>\n",
       "            <tr>\n",
       "                        <th id=\"T_308d13b3_f903_11ea_afd8_c49dedad624alevel0_row2\" class=\"row_heading level0 row2\" >Chamjask73</th>\n",
       "                        <td id=\"T_308d13b3_f903_11ea_afd8_c49dedad624arow2_col0\" class=\"data row2 col0\" >3</td>\n",
       "                        <td id=\"T_308d13b3_f903_11ea_afd8_c49dedad624arow2_col1\" class=\"data row2 col1\" >$13.83</td>\n",
       "            </tr>\n",
       "            <tr>\n",
       "                        <th id=\"T_308d13b3_f903_11ea_afd8_c49dedad624alevel0_row3\" class=\"row_heading level0 row3\" >Iral74</th>\n",
       "                        <td id=\"T_308d13b3_f903_11ea_afd8_c49dedad624arow3_col0\" class=\"data row3 col0\" >4</td>\n",
       "                        <td id=\"T_308d13b3_f903_11ea_afd8_c49dedad624arow3_col1\" class=\"data row3 col1\" >$13.62</td>\n",
       "            </tr>\n",
       "            <tr>\n",
       "                        <th id=\"T_308d13b3_f903_11ea_afd8_c49dedad624alevel0_row4\" class=\"row_heading level0 row4\" >Iskadarya95</th>\n",
       "                        <td id=\"T_308d13b3_f903_11ea_afd8_c49dedad624arow4_col0\" class=\"data row4 col0\" >3</td>\n",
       "                        <td id=\"T_308d13b3_f903_11ea_afd8_c49dedad624arow4_col1\" class=\"data row4 col1\" >$13.10</td>\n",
       "            </tr>\n",
       "    </tbody></table>"
      ],
      "text/plain": [
       "<pandas.io.formats.style.Styler at 0x1b54bc5a0a0>"
      ]
     },
     "execution_count": 84,
     "metadata": {},
     "output_type": "execute_result"
    }
   ],
   "source": [
    "#set spenders data set then group by SN\n",
    "spenders = purchase_data[[\"SN\",\"Purchase ID\",\"Price\"]]\n",
    "spenders = spenders.groupby(\"SN\")\n",
    "#set topspenders data set\n",
    "topspenders = pd.DataFrame(spenders[\"SN\"].count())\n",
    "#get total purchase value\n",
    "topspenders[\"Total Purchase Value\"] = spenders[\"Price\"].sum()\n",
    "#set SN to Purchase count \n",
    "topspenders.rename(columns={\"SN\":\"Purchase Count\"},inplace=True)\n",
    "#sort data set to descending order then display only the highest 5 spenders\n",
    "topspenders = topspenders.sort_values(by=\"Total Purchase Value\", ascending=False).head()\n",
    "#set format to add $ sign to Total Purchase Value\n",
    "topspenders=topspenders.style.format({\n",
    "    \"Total Purchase Value\":\"${:,.2f}\".format\n",
    "})\n",
    "topspenders"
   ]
  },
  {
   "cell_type": "markdown",
   "metadata": {},
   "source": [
    "## Most Popular Items"
   ]
  },
  {
   "cell_type": "markdown",
   "metadata": {},
   "source": [
    "* Retrieve the Item ID, Item Name, and Item Price columns\n",
    "\n",
    "\n",
    "* Group by Item ID and Item Name. Perform calculations to obtain purchase count, item price, and total purchase value\n",
    "\n",
    "\n",
    "* Create a summary data frame to hold the results\n",
    "\n",
    "\n",
    "* Sort the purchase count column in descending order\n",
    "\n",
    "\n",
    "* Optional: give the displayed data cleaner formatting\n",
    "\n",
    "\n",
    "* Display a preview of the summary data frame\n",
    "\n"
   ]
  },
  {
   "cell_type": "code",
   "execution_count": 138,
   "metadata": {},
   "outputs": [
    {
     "data": {
      "text/html": [
       "<style  type=\"text/css\" >\n",
       "</style><table id=\"T_4b27b834_f90a_11ea_8dc0_c49dedad624a\" ><thead>    <tr>        <th class=\"blank\" ></th>        <th class=\"blank level0\" ></th>        <th class=\"col_heading level0 col0\" >Purchase Count</th>        <th class=\"col_heading level0 col1\" >Item Price</th>        <th class=\"col_heading level0 col2\" >Total Purchase Value</th>    </tr>    <tr>        <th class=\"index_name level0\" >Item ID</th>        <th class=\"index_name level1\" >Item Name</th>        <th class=\"blank\" ></th>        <th class=\"blank\" ></th>        <th class=\"blank\" ></th>    </tr></thead><tbody>\n",
       "                <tr>\n",
       "                        <th id=\"T_4b27b834_f90a_11ea_8dc0_c49dedad624alevel0_row0\" class=\"row_heading level0 row0\" >92</th>\n",
       "                        <th id=\"T_4b27b834_f90a_11ea_8dc0_c49dedad624alevel1_row0\" class=\"row_heading level1 row0\" >Final Critic</th>\n",
       "                        <td id=\"T_4b27b834_f90a_11ea_8dc0_c49dedad624arow0_col0\" class=\"data row0 col0\" >13</td>\n",
       "                        <td id=\"T_4b27b834_f90a_11ea_8dc0_c49dedad624arow0_col1\" class=\"data row0 col1\" >$4.61</td>\n",
       "                        <td id=\"T_4b27b834_f90a_11ea_8dc0_c49dedad624arow0_col2\" class=\"data row0 col2\" >$59.99</td>\n",
       "            </tr>\n",
       "            <tr>\n",
       "                        <th id=\"T_4b27b834_f90a_11ea_8dc0_c49dedad624alevel0_row1\" class=\"row_heading level0 row1\" >178</th>\n",
       "                        <th id=\"T_4b27b834_f90a_11ea_8dc0_c49dedad624alevel1_row1\" class=\"row_heading level1 row1\" >Oathbreaker, Last Hope of the Breaking Storm</th>\n",
       "                        <td id=\"T_4b27b834_f90a_11ea_8dc0_c49dedad624arow1_col0\" class=\"data row1 col0\" >12</td>\n",
       "                        <td id=\"T_4b27b834_f90a_11ea_8dc0_c49dedad624arow1_col1\" class=\"data row1 col1\" >$4.23</td>\n",
       "                        <td id=\"T_4b27b834_f90a_11ea_8dc0_c49dedad624arow1_col2\" class=\"data row1 col2\" >$50.76</td>\n",
       "            </tr>\n",
       "            <tr>\n",
       "                        <th id=\"T_4b27b834_f90a_11ea_8dc0_c49dedad624alevel0_row2\" class=\"row_heading level0 row2\" >145</th>\n",
       "                        <th id=\"T_4b27b834_f90a_11ea_8dc0_c49dedad624alevel1_row2\" class=\"row_heading level1 row2\" >Fiery Glass Crusader</th>\n",
       "                        <td id=\"T_4b27b834_f90a_11ea_8dc0_c49dedad624arow2_col0\" class=\"data row2 col0\" >9</td>\n",
       "                        <td id=\"T_4b27b834_f90a_11ea_8dc0_c49dedad624arow2_col1\" class=\"data row2 col1\" >$4.58</td>\n",
       "                        <td id=\"T_4b27b834_f90a_11ea_8dc0_c49dedad624arow2_col2\" class=\"data row2 col2\" >$41.22</td>\n",
       "            </tr>\n",
       "            <tr>\n",
       "                        <th id=\"T_4b27b834_f90a_11ea_8dc0_c49dedad624alevel0_row3\" class=\"row_heading level0 row3\" >132</th>\n",
       "                        <th id=\"T_4b27b834_f90a_11ea_8dc0_c49dedad624alevel1_row3\" class=\"row_heading level1 row3\" >Persuasion</th>\n",
       "                        <td id=\"T_4b27b834_f90a_11ea_8dc0_c49dedad624arow3_col0\" class=\"data row3 col0\" >9</td>\n",
       "                        <td id=\"T_4b27b834_f90a_11ea_8dc0_c49dedad624arow3_col1\" class=\"data row3 col1\" >$3.22</td>\n",
       "                        <td id=\"T_4b27b834_f90a_11ea_8dc0_c49dedad624arow3_col2\" class=\"data row3 col2\" >$28.99</td>\n",
       "            </tr>\n",
       "            <tr>\n",
       "                        <th id=\"T_4b27b834_f90a_11ea_8dc0_c49dedad624alevel0_row4\" class=\"row_heading level0 row4\" >108</th>\n",
       "                        <th id=\"T_4b27b834_f90a_11ea_8dc0_c49dedad624alevel1_row4\" class=\"row_heading level1 row4\" >Extraction, Quickblade Of Trembling Hands</th>\n",
       "                        <td id=\"T_4b27b834_f90a_11ea_8dc0_c49dedad624arow4_col0\" class=\"data row4 col0\" >9</td>\n",
       "                        <td id=\"T_4b27b834_f90a_11ea_8dc0_c49dedad624arow4_col1\" class=\"data row4 col1\" >$3.53</td>\n",
       "                        <td id=\"T_4b27b834_f90a_11ea_8dc0_c49dedad624arow4_col2\" class=\"data row4 col2\" >$31.77</td>\n",
       "            </tr>\n",
       "    </tbody></table>"
      ],
      "text/plain": [
       "<pandas.io.formats.style.Styler at 0x1b54bd53490>"
      ]
     },
     "execution_count": 138,
     "metadata": {},
     "output_type": "execute_result"
    }
   ],
   "source": [
    "#set items data frame\n",
    "items = purchase_data[[\"Item Name\",\"Item ID\",\"Price\"]]\n",
    "itemprice = items[\"Price\"]\n",
    "items = items.groupby([\"Item ID\",\"Item Name\"])\n",
    "#set new data frame \n",
    "popular_items = pd.DataFrame(items[\"Item ID\"].count())\n",
    "#rename item id to purchase count\n",
    "popular_items.rename(columns={\"Item ID\":\"Purchase Count\"}, inplace = True)\n",
    "#get item price per item type\n",
    "popular_items[\"Item Price\"] = items[\"Price\"].sum()/items[\"Price\"].count()\n",
    "#get total amount \n",
    "popular_items[\"Total Purchase Value\"] = items[\"Price\"].sum()\n",
    "#make dataframe for next task\n",
    "profit_items =popular_items\n",
    "#sort data by Purchase count then display ony top 5 items \n",
    "popular_items = popular_items.sort_values(by=\"Purchase Count\", ascending=False).head()\n",
    "\n",
    "#set format to add $ sign \n",
    "popular_items= popular_items.style.format({\n",
    "    \"Item Price\":\"${:,.2f}\".format,\n",
    "    \"Total Purchase Value\":\"${:,.2f}\".format\n",
    "})\n",
    "popular_items\n"
   ]
  },
  {
   "cell_type": "code",
   "execution_count": 85,
   "metadata": {},
   "outputs": [
    {
     "data": {
      "text/plain": [
       "Index(['Purchase ID', 'SN', 'Age', 'Gender', 'Item ID', 'Item Name', 'Price'], dtype='object')"
      ]
     },
     "execution_count": 85,
     "metadata": {},
     "output_type": "execute_result"
    }
   ],
   "source": [
    "purchase_data.columns"
   ]
  },
  {
   "cell_type": "markdown",
   "metadata": {},
   "source": [
    "## Most Profitable Items"
   ]
  },
  {
   "cell_type": "markdown",
   "metadata": {},
   "source": [
    "* Sort the above table by total purchase value in descending order\n",
    "\n",
    "\n",
    "* Optional: give the displayed data cleaner formatting\n",
    "\n",
    "\n",
    "* Display a preview of the data frame\n",
    "\n"
   ]
  },
  {
   "cell_type": "code",
   "execution_count": 140,
   "metadata": {},
   "outputs": [
    {
     "data": {
      "text/html": [
       "<style  type=\"text/css\" >\n",
       "</style><table id=\"T_9a23329f_f90a_11ea_9e6f_c49dedad624a\" ><thead>    <tr>        <th class=\"blank\" ></th>        <th class=\"blank level0\" ></th>        <th class=\"col_heading level0 col0\" >Purchase Count</th>        <th class=\"col_heading level0 col1\" >Item Price</th>        <th class=\"col_heading level0 col2\" >Total Purchase Value</th>    </tr>    <tr>        <th class=\"index_name level0\" >Item ID</th>        <th class=\"index_name level1\" >Item Name</th>        <th class=\"blank\" ></th>        <th class=\"blank\" ></th>        <th class=\"blank\" ></th>    </tr></thead><tbody>\n",
       "                <tr>\n",
       "                        <th id=\"T_9a23329f_f90a_11ea_9e6f_c49dedad624alevel0_row0\" class=\"row_heading level0 row0\" >92</th>\n",
       "                        <th id=\"T_9a23329f_f90a_11ea_9e6f_c49dedad624alevel1_row0\" class=\"row_heading level1 row0\" >Final Critic</th>\n",
       "                        <td id=\"T_9a23329f_f90a_11ea_9e6f_c49dedad624arow0_col0\" class=\"data row0 col0\" >13</td>\n",
       "                        <td id=\"T_9a23329f_f90a_11ea_9e6f_c49dedad624arow0_col1\" class=\"data row0 col1\" >$4.61</td>\n",
       "                        <td id=\"T_9a23329f_f90a_11ea_9e6f_c49dedad624arow0_col2\" class=\"data row0 col2\" >$59.99</td>\n",
       "            </tr>\n",
       "            <tr>\n",
       "                        <th id=\"T_9a23329f_f90a_11ea_9e6f_c49dedad624alevel0_row1\" class=\"row_heading level0 row1\" >178</th>\n",
       "                        <th id=\"T_9a23329f_f90a_11ea_9e6f_c49dedad624alevel1_row1\" class=\"row_heading level1 row1\" >Oathbreaker, Last Hope of the Breaking Storm</th>\n",
       "                        <td id=\"T_9a23329f_f90a_11ea_9e6f_c49dedad624arow1_col0\" class=\"data row1 col0\" >12</td>\n",
       "                        <td id=\"T_9a23329f_f90a_11ea_9e6f_c49dedad624arow1_col1\" class=\"data row1 col1\" >$4.23</td>\n",
       "                        <td id=\"T_9a23329f_f90a_11ea_9e6f_c49dedad624arow1_col2\" class=\"data row1 col2\" >$50.76</td>\n",
       "            </tr>\n",
       "            <tr>\n",
       "                        <th id=\"T_9a23329f_f90a_11ea_9e6f_c49dedad624alevel0_row2\" class=\"row_heading level0 row2\" >82</th>\n",
       "                        <th id=\"T_9a23329f_f90a_11ea_9e6f_c49dedad624alevel1_row2\" class=\"row_heading level1 row2\" >Nirvana</th>\n",
       "                        <td id=\"T_9a23329f_f90a_11ea_9e6f_c49dedad624arow2_col0\" class=\"data row2 col0\" >9</td>\n",
       "                        <td id=\"T_9a23329f_f90a_11ea_9e6f_c49dedad624arow2_col1\" class=\"data row2 col1\" >$4.90</td>\n",
       "                        <td id=\"T_9a23329f_f90a_11ea_9e6f_c49dedad624arow2_col2\" class=\"data row2 col2\" >$44.10</td>\n",
       "            </tr>\n",
       "            <tr>\n",
       "                        <th id=\"T_9a23329f_f90a_11ea_9e6f_c49dedad624alevel0_row3\" class=\"row_heading level0 row3\" >145</th>\n",
       "                        <th id=\"T_9a23329f_f90a_11ea_9e6f_c49dedad624alevel1_row3\" class=\"row_heading level1 row3\" >Fiery Glass Crusader</th>\n",
       "                        <td id=\"T_9a23329f_f90a_11ea_9e6f_c49dedad624arow3_col0\" class=\"data row3 col0\" >9</td>\n",
       "                        <td id=\"T_9a23329f_f90a_11ea_9e6f_c49dedad624arow3_col1\" class=\"data row3 col1\" >$4.58</td>\n",
       "                        <td id=\"T_9a23329f_f90a_11ea_9e6f_c49dedad624arow3_col2\" class=\"data row3 col2\" >$41.22</td>\n",
       "            </tr>\n",
       "            <tr>\n",
       "                        <th id=\"T_9a23329f_f90a_11ea_9e6f_c49dedad624alevel0_row4\" class=\"row_heading level0 row4\" >103</th>\n",
       "                        <th id=\"T_9a23329f_f90a_11ea_9e6f_c49dedad624alevel1_row4\" class=\"row_heading level1 row4\" >Singed Scalpel</th>\n",
       "                        <td id=\"T_9a23329f_f90a_11ea_9e6f_c49dedad624arow4_col0\" class=\"data row4 col0\" >8</td>\n",
       "                        <td id=\"T_9a23329f_f90a_11ea_9e6f_c49dedad624arow4_col1\" class=\"data row4 col1\" >$4.35</td>\n",
       "                        <td id=\"T_9a23329f_f90a_11ea_9e6f_c49dedad624arow4_col2\" class=\"data row4 col2\" >$34.80</td>\n",
       "            </tr>\n",
       "    </tbody></table>"
      ],
      "text/plain": [
       "<pandas.io.formats.style.Styler at 0x1b54be61190>"
      ]
     },
     "execution_count": 140,
     "metadata": {},
     "output_type": "execute_result"
    }
   ],
   "source": [
    "#sort data by Total Purchase Value then display ony top 5 items \n",
    "profit_items = profit_items.sort_values(by=\"Total Purchase Value\", ascending=False).head()\n",
    "#set format to add $ sign \n",
    "profit_items= profit_items.style.format({\n",
    "    \"Item Price\":\"${:,.2f}\".format,\n",
    "    \"Total Purchase Value\":\"${:,.2f}\".format\n",
    "})\n",
    "profit_items"
   ]
  },
  {
   "cell_type": "code",
   "execution_count": null,
   "metadata": {},
   "outputs": [],
   "source": []
  }
 ],
 "metadata": {
  "anaconda-cloud": {},
  "kernel_info": {
   "name": "python3"
  },
  "kernelspec": {
   "display_name": "Python 3",
   "language": "python",
   "name": "python3"
  },
  "language_info": {
   "codemirror_mode": {
    "name": "ipython",
    "version": 3
   },
   "file_extension": ".py",
   "mimetype": "text/x-python",
   "name": "python",
   "nbconvert_exporter": "python",
   "pygments_lexer": "ipython3",
   "version": "3.8.3"
  },
  "latex_envs": {
   "LaTeX_envs_menu_present": true,
   "autoclose": false,
   "autocomplete": true,
   "bibliofile": "biblio.bib",
   "cite_by": "apalike",
   "current_citInitial": 1,
   "eqLabelWithNumbers": true,
   "eqNumInitial": 1,
   "hotkeys": {
    "equation": "Ctrl-E",
    "itemize": "Ctrl-I"
   },
   "labels_anchors": false,
   "latex_user_defs": false,
   "report_style_numbering": false,
   "user_envs_cfg": false
  },
  "nteract": {
   "version": "0.2.0"
  }
 },
 "nbformat": 4,
 "nbformat_minor": 4
}
